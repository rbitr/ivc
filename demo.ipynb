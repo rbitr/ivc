{
 "cells": [
  {
   "cell_type": "code",
   "execution_count": 1,
   "metadata": {},
   "outputs": [],
   "source": [
    "from ivc import ivc\n",
    "import matplotlib.pyplot as plt\n",
    "import sys"
   ]
  },
  {
   "cell_type": "code",
   "execution_count": 2,
   "metadata": {},
   "outputs": [],
   "source": [
    "myvc = ivc.VC()"
   ]
  },
  {
   "cell_type": "code",
   "execution_count": 3,
   "metadata": {},
   "outputs": [],
   "source": [
    "### Define some functions\n",
    "### Add the @myvc.add_vc() decorator to implement version control\n",
    "\n",
    "@myvc.add_vc(capturing=False)\n",
    "def func1(arg1,arg2):\n",
    "    print (f\"A1 is {arg1} A2 is {arg2}\")\n",
    "    print (arg1+arg2)\n",
    "    return arg1    \n",
    "    \n",
    "@myvc.add_vc(comment=\"Comments are optional\")\n",
    "def func2(arg1,arg2):\n",
    "    print (arg1(arg2))\n",
    "    print (\"This applies to us all\")\n",
    "       \n",
    "@myvc.add_vc(comment=\"prints a figure\")\n",
    "def func3():\n",
    "    plt.plot([1,2,3,6])\n",
    "    plt.show()\n",
    "    print(\"with the get down\",file=sys.stderr)\n",
    "    print(\"livin in a california cage\")"
   ]
  },
  {
   "cell_type": "code",
   "execution_count": 4,
   "metadata": {},
   "outputs": [],
   "source": [
    "### Change definitions in normal course of data exploration / debugging\n",
    "\n",
    "@myvc.add_vc(capturing=False,comment=\"Changed order\")\n",
    "def func1(arg1,arg2):\n",
    "    print (f\"A1 is {arg2} A2 is {arg1}\")\n",
    "    print (arg1+arg2)\n",
    "        \n",
    "    \n",
    "@myvc.add_vc()\n",
    "def func2(arg1,arg2):\n",
    "    print (arg1(arg2))\n",
    "    print (\"This applies to us me\")\n",
    "    return True\n",
    "       "
   ]
  },
  {
   "cell_type": "code",
   "execution_count": 5,
   "metadata": {},
   "outputs": [
    {
     "data": {
      "text/html": [
       "<div>\n",
       "<style scoped>\n",
       "    .dataframe tbody tr th:only-of-type {\n",
       "        vertical-align: middle;\n",
       "    }\n",
       "\n",
       "    .dataframe tbody tr th {\n",
       "        vertical-align: top;\n",
       "    }\n",
       "\n",
       "    .dataframe thead th {\n",
       "        text-align: right;\n",
       "    }\n",
       "</style>\n",
       "<table border=\"1\" class=\"dataframe\">\n",
       "  <thead>\n",
       "    <tr style=\"text-align: right;\">\n",
       "      <th></th>\n",
       "      <th>source</th>\n",
       "      <th>timestamp</th>\n",
       "      <th>comment</th>\n",
       "      <th>count</th>\n",
       "    </tr>\n",
       "    <tr>\n",
       "      <th>func1</th>\n",
       "      <th></th>\n",
       "      <th></th>\n",
       "      <th></th>\n",
       "      <th></th>\n",
       "    </tr>\n",
       "  </thead>\n",
       "  <tbody>\n",
       "    <tr>\n",
       "      <th>37c34cf96f7dc8a070f01282ce7b563d</th>\n",
       "      <td>@myvc.add_vc(capturing=False)\\ndef func1(arg1,...</td>\n",
       "      <td>2020-07-26T15:41:54.540040</td>\n",
       "      <td></td>\n",
       "      <td>0</td>\n",
       "    </tr>\n",
       "    <tr>\n",
       "      <th>ebf1e620f435e3ff721743bb194b710c</th>\n",
       "      <td>@myvc.add_vc(capturing=False,comment=\"Changed ...</td>\n",
       "      <td>2020-07-26T15:41:54.555160</td>\n",
       "      <td>Changed order</td>\n",
       "      <td>0</td>\n",
       "    </tr>\n",
       "  </tbody>\n",
       "</table>\n",
       "</div>"
      ],
      "text/plain": [
       "                                                                             source  \\\n",
       "func1                                                                                 \n",
       "37c34cf96f7dc8a070f01282ce7b563d  @myvc.add_vc(capturing=False)\\ndef func1(arg1,...   \n",
       "ebf1e620f435e3ff721743bb194b710c  @myvc.add_vc(capturing=False,comment=\"Changed ...   \n",
       "\n",
       "                                                   timestamp        comment  \\\n",
       "func1                                                                         \n",
       "37c34cf96f7dc8a070f01282ce7b563d  2020-07-26T15:41:54.540040                  \n",
       "ebf1e620f435e3ff721743bb194b710c  2020-07-26T15:41:54.555160  Changed order   \n",
       "\n",
       "                                 count  \n",
       "func1                                   \n",
       "37c34cf96f7dc8a070f01282ce7b563d     0  \n",
       "ebf1e620f435e3ff721743bb194b710c     0  "
      ]
     },
     "metadata": {},
     "output_type": "display_data"
    },
    {
     "data": {
      "text/html": [
       "<div>\n",
       "<style scoped>\n",
       "    .dataframe tbody tr th:only-of-type {\n",
       "        vertical-align: middle;\n",
       "    }\n",
       "\n",
       "    .dataframe tbody tr th {\n",
       "        vertical-align: top;\n",
       "    }\n",
       "\n",
       "    .dataframe thead th {\n",
       "        text-align: right;\n",
       "    }\n",
       "</style>\n",
       "<table border=\"1\" class=\"dataframe\">\n",
       "  <thead>\n",
       "    <tr style=\"text-align: right;\">\n",
       "      <th></th>\n",
       "      <th>source</th>\n",
       "      <th>timestamp</th>\n",
       "      <th>comment</th>\n",
       "      <th>count</th>\n",
       "    </tr>\n",
       "    <tr>\n",
       "      <th>func2</th>\n",
       "      <th></th>\n",
       "      <th></th>\n",
       "      <th></th>\n",
       "      <th></th>\n",
       "    </tr>\n",
       "  </thead>\n",
       "  <tbody>\n",
       "    <tr>\n",
       "      <th>6254079660f3b3621a145dacc97c853d</th>\n",
       "      <td>@myvc.add_vc(comment=\"Comments are optional\")\\...</td>\n",
       "      <td>2020-07-26T15:41:54.540817</td>\n",
       "      <td>Comments are optional</td>\n",
       "      <td>0</td>\n",
       "    </tr>\n",
       "    <tr>\n",
       "      <th>aafc5c3e7fbf34bf5c4d9804df198895</th>\n",
       "      <td>@myvc.add_vc()\\ndef func2(arg1,arg2):\\n    pri...</td>\n",
       "      <td>2020-07-26T15:41:54.556503</td>\n",
       "      <td></td>\n",
       "      <td>0</td>\n",
       "    </tr>\n",
       "  </tbody>\n",
       "</table>\n",
       "</div>"
      ],
      "text/plain": [
       "                                                                             source  \\\n",
       "func2                                                                                 \n",
       "6254079660f3b3621a145dacc97c853d  @myvc.add_vc(comment=\"Comments are optional\")\\...   \n",
       "aafc5c3e7fbf34bf5c4d9804df198895  @myvc.add_vc()\\ndef func2(arg1,arg2):\\n    pri...   \n",
       "\n",
       "                                                   timestamp  \\\n",
       "func2                                                          \n",
       "6254079660f3b3621a145dacc97c853d  2020-07-26T15:41:54.540817   \n",
       "aafc5c3e7fbf34bf5c4d9804df198895  2020-07-26T15:41:54.556503   \n",
       "\n",
       "                                                comment count  \n",
       "func2                                                          \n",
       "6254079660f3b3621a145dacc97c853d  Comments are optional     0  \n",
       "aafc5c3e7fbf34bf5c4d9804df198895                            0  "
      ]
     },
     "metadata": {},
     "output_type": "display_data"
    },
    {
     "data": {
      "text/html": [
       "<div>\n",
       "<style scoped>\n",
       "    .dataframe tbody tr th:only-of-type {\n",
       "        vertical-align: middle;\n",
       "    }\n",
       "\n",
       "    .dataframe tbody tr th {\n",
       "        vertical-align: top;\n",
       "    }\n",
       "\n",
       "    .dataframe thead th {\n",
       "        text-align: right;\n",
       "    }\n",
       "</style>\n",
       "<table border=\"1\" class=\"dataframe\">\n",
       "  <thead>\n",
       "    <tr style=\"text-align: right;\">\n",
       "      <th></th>\n",
       "      <th>comment</th>\n",
       "      <th>count</th>\n",
       "      <th>source</th>\n",
       "      <th>timestamp</th>\n",
       "    </tr>\n",
       "    <tr>\n",
       "      <th>func3</th>\n",
       "      <th></th>\n",
       "      <th></th>\n",
       "      <th></th>\n",
       "      <th></th>\n",
       "    </tr>\n",
       "  </thead>\n",
       "  <tbody>\n",
       "    <tr>\n",
       "      <th>541d4fc3e71d99418e77efbe94550fcd</th>\n",
       "      <td>prints a figure</td>\n",
       "      <td>0</td>\n",
       "      <td>@myvc.add_vc(comment=\"prints a figure\")\\ndef f...</td>\n",
       "      <td>2020-07-26T15:41:54.541696</td>\n",
       "    </tr>\n",
       "  </tbody>\n",
       "</table>\n",
       "</div>"
      ],
      "text/plain": [
       "                                          comment count  \\\n",
       "func3                                                     \n",
       "541d4fc3e71d99418e77efbe94550fcd  prints a figure     0   \n",
       "\n",
       "                                                                             source  \\\n",
       "func3                                                                                 \n",
       "541d4fc3e71d99418e77efbe94550fcd  @myvc.add_vc(comment=\"prints a figure\")\\ndef f...   \n",
       "\n",
       "                                                   timestamp  \n",
       "func3                                                         \n",
       "541d4fc3e71d99418e77efbe94550fcd  2020-07-26T15:41:54.541696  "
      ]
     },
     "metadata": {},
     "output_type": "display_data"
    }
   ],
   "source": [
    "### List of all past edits to the functions\n",
    "### this function gives you a list of dataframes for each stored function, you can also just inspect `myvc.versions`\n",
    "versions = myvc.get_entries()\n",
    "for v in versions:\n",
    "    display(versions[v])"
   ]
  },
  {
   "cell_type": "code",
   "execution_count": 6,
   "metadata": {},
   "outputs": [
    {
     "name": "stdout",
     "output_type": "stream",
     "text": [
      "- @myvc.add_vc(capturing=False)\n",
      "+ @myvc.add_vc(capturing=False,comment=\"Changed order\")\n",
      "def func1(arg1,arg2):\n",
      "-     print (f\"A1 is {arg1} A2 is {arg2}\")\n",
      "?                        ^            ^\n",
      "+     print (f\"A1 is {arg2} A2 is {arg1}\")\n",
      "?                        ^            ^\n",
      "print (arg1+arg2)\n",
      "-     return arg1\n",
      "\n",
      "- @myvc.add_vc(comment=\"Comments are optional\")\n",
      "+ @myvc.add_vc()\n",
      "def func2(arg1,arg2):\n",
      "print (arg1(arg2))\n",
      "-     print (\"This applies to us all\")\n",
      "?                                ^^^\n",
      "+     print (\"This applies to us me\")\n",
      "?                                ^^\n",
      "+     return True\n",
      "\n"
     ]
    }
   ],
   "source": [
    "#see the changes you made\n",
    "\n",
    "for v in versions:\n",
    "    if len(versions[v])>1:\n",
    "        for r in myvc.diff(v,versions[v].index[0],versions[v].index[1]):    \n",
    "            print (r.strip())\n",
    "\n"
   ]
  },
  {
   "cell_type": "code",
   "execution_count": 7,
   "metadata": {},
   "outputs": [
    {
     "name": "stdout",
     "output_type": "stream",
     "text": [
      "A1 is 2 A2 is 1\n",
      "3\n"
     ]
    }
   ],
   "source": [
    "# run the functions a few times\n",
    "func1(1,2)"
   ]
  },
  {
   "cell_type": "code",
   "execution_count": 8,
   "metadata": {},
   "outputs": [
    {
     "name": "stdout",
     "output_type": "stream",
     "text": [
      "16\n",
      "This applies to us me\n"
     ]
    },
    {
     "data": {
      "text/plain": [
       "True"
      ]
     },
     "execution_count": 8,
     "metadata": {},
     "output_type": "execute_result"
    }
   ],
   "source": [
    "func2(lambda x:x*x,4)"
   ]
  },
  {
   "cell_type": "code",
   "execution_count": 9,
   "metadata": {},
   "outputs": [
    {
     "name": "stdout",
     "output_type": "stream",
     "text": [
      "livin in a california cage\n"
     ]
    },
    {
     "name": "stderr",
     "output_type": "stream",
     "text": [
      "with the get down\n"
     ]
    },
    {
     "data": {
      "image/png": "[encoded data removed]",
      "text/plain": [
       "<Figure size 432x288 with 1 Axes>"
      ]
     },
     "metadata": {
      "needs_background": "light"
     },
     "output_type": "display_data"
    }
   ],
   "source": [
    "func3()"
   ]
  },
  {
   "cell_type": "code",
   "execution_count": 10,
   "metadata": {},
   "outputs": [
    {
     "name": "stdout",
     "output_type": "stream",
     "text": [
      "party and bullshit\n"
     ]
    },
    {
     "name": "stderr",
     "output_type": "stream",
     "text": [
      "with the get down\n"
     ]
    },
    {
     "data": {
      "image/png": "[encoded data removed]",
      "text/plain": [
       "<Figure size 432x288 with 1 Axes>"
      ]
     },
     "metadata": {
      "needs_background": "light"
     },
     "output_type": "display_data"
    }
   ],
   "source": [
    "@myvc.add_vc(comment=\"prints a figure\")\n",
    "def func3():\n",
    "    plt.plot([1,2,3,6][::-1])\n",
    "    plt.show()\n",
    "    print(\"with the get down\",file=sys.stderr)\n",
    "    print(\"party and bullshit\")\n",
    "    \n",
    "func3()"
   ]
  },
  {
   "cell_type": "code",
   "execution_count": 11,
   "metadata": {},
   "outputs": [
    {
     "name": "stdout",
     "output_type": "stream",
     "text": [
      "func1 : 37c34cf96f7dc8a070f01282ce7b563d\n",
      "func1 : ebf1e620f435e3ff721743bb194b710c\n",
      "func2 : 6254079660f3b3621a145dacc97c853d\n",
      "func2 : aafc5c3e7fbf34bf5c4d9804df198895\n",
      "16\n",
      "This applies to us me\n",
      "\n",
      "func3 : 541d4fc3e71d99418e77efbe94550fcd\n",
      "livin in a california cage\n",
      "\n"
     ]
    },
    {
     "name": "stderr",
     "output_type": "stream",
     "text": [
      "\n",
      "with the get down\n",
      "\n"
     ]
    },
    {
     "data": {
      "image/png": "[encoded data removed]",
      "text/plain": [
       "<Figure size 432x288 with 1 Axes>"
      ]
     },
     "metadata": {
      "needs_background": "light"
     },
     "output_type": "display_data"
    },
    {
     "name": "stdout",
     "output_type": "stream",
     "text": [
      "func3 : 54c3d5d9a1d1e193364808ffd32e000d\n",
      "party and bullshit\n",
      "\n"
     ]
    },
    {
     "name": "stderr",
     "output_type": "stream",
     "text": [
      "with the get down\n",
      "\n"
     ]
    },
    {
     "data": {
      "image/png": "[encoded data removed]",
      "text/plain": [
       "<Figure size 432x288 with 1 Axes>"
      ]
     },
     "metadata": {
      "needs_background": "light"
     },
     "output_type": "display_data"
    }
   ],
   "source": [
    "# loop through and use the build in `display` function to look at output produced\n",
    "versions = myvc.get_entries()\n",
    "for v in versions:\n",
    "    for i in versions[v].index:\n",
    "        print (v,\":\",i)\n",
    "        myvc.display(v,i) "
   ]
  },
  {
   "cell_type": "code",
   "execution_count": 12,
   "metadata": {},
   "outputs": [
    {
     "data": {
      "text/plain": [
       "{'541d4fc3e71d99418e77efbe94550fcd': 1, '54c3d5d9a1d1e193364808ffd32e000d': 1}"
      ]
     },
     "execution_count": 12,
     "metadata": {},
     "output_type": "execute_result"
    }
   ],
   "source": [
    "myvc.summary(func3) # pass a function or nothing to get a summary of how many times it was run"
   ]
  },
  {
   "cell_type": "code",
   "execution_count": 13,
   "metadata": {},
   "outputs": [
    {
     "data": {
      "text/plain": [
       "{'func1': {'37c34cf96f7dc8a070f01282ce7b563d': {'source': '@myvc.add_vc(capturing=False)\\ndef func1(arg1,arg2):\\n    print (f\"A1 is {arg1} A2 is {arg2}\")\\n    print (arg1+arg2)\\n    return arg1    \\n',\n",
       "   'timestamp': '2020-07-26T15:41:54.540040',\n",
       "   'comment': '',\n",
       "   'count': 0},\n",
       "  'ebf1e620f435e3ff721743bb194b710c': {'source': '@myvc.add_vc(capturing=False,comment=\"Changed order\")\\ndef func1(arg1,arg2):\\n    print (f\"A1 is {arg2} A2 is {arg1}\")\\n    print (arg1+arg2)\\n',\n",
       "   'timestamp': '2020-07-26T15:41:54.555160',\n",
       "   'comment': 'Changed order',\n",
       "   'count': 0}},\n",
       " 'func2': {'6254079660f3b3621a145dacc97c853d': {'source': '@myvc.add_vc(comment=\"Comments are optional\")\\ndef func2(arg1,arg2):\\n    print (arg1(arg2))\\n    print (\"This applies to us all\")\\n',\n",
       "   'timestamp': '2020-07-26T15:41:54.540817',\n",
       "   'comment': 'Comments are optional',\n",
       "   'count': 0},\n",
       "  'aafc5c3e7fbf34bf5c4d9804df198895': {'source': '@myvc.add_vc()\\ndef func2(arg1,arg2):\\n    print (arg1(arg2))\\n    print (\"This applies to us me\")\\n    return True\\n',\n",
       "   'timestamp': '2020-07-26T15:41:54.556503',\n",
       "   'comment': '',\n",
       "   'count': 1,\n",
       "   'last_output': ('16\\nThis applies to us me\\n', '', [])}},\n",
       " 'func3': {'541d4fc3e71d99418e77efbe94550fcd': {'source': '@myvc.add_vc(comment=\"prints a figure\")\\ndef func3():\\n    plt.plot([1,2,3,6])\\n    plt.show()\\n    print(\"with the get down\",file=sys.stderr)\\n    print(\"livin in a california cage\")\\n',\n",
       "   'timestamp': '2020-07-26T15:41:54.541696',\n",
       "   'comment': 'prints a figure',\n",
       "   'count': 1,\n",
       "   'last_output': ('livin in a california cage\\n',\n",
       "    'with the get down\\n',\n",
       "    [<IPython.utils.capture.RichOutput at 0x7f19d0f93be0>])},\n",
       "  '54c3d5d9a1d1e193364808ffd32e000d': {'source': '@myvc.add_vc(comment=\"prints a figure\")\\ndef func3():\\n    plt.plot([1,2,3,6][::-1])\\n    plt.show()\\n    print(\"with the get down\",file=sys.stderr)\\n    print(\"party and bullshit\")\\n',\n",
       "   'timestamp': '2020-07-26T15:41:54.915310',\n",
       "   'comment': 'prints a figure',\n",
       "   'count': 1,\n",
       "   'last_output': ('party and bullshit\\n',\n",
       "    'with the get down\\n',\n",
       "    [<IPython.utils.capture.RichOutput at 0x7f19cee89460>])}}}"
      ]
     },
     "execution_count": 13,
     "metadata": {},
     "output_type": "execute_result"
    }
   ],
   "source": [
    "# you can look at the raw data stored if you don't want to see it as a dataframe\n",
    "myvc.versions"
   ]
  },
  {
   "cell_type": "code",
   "execution_count": null,
   "metadata": {},
   "outputs": [],
   "source": []
  }
 ],
 "metadata": {
  "kernelspec": {
   "display_name": "Python 3",
   "language": "python",
   "name": "python3"
  },
  "language_info": {
   "codemirror_mode": {
    "name": "ipython",
    "version": 3
   },
   "file_extension": ".py",
   "mimetype": "text/x-python",
   "name": "python",
   "nbconvert_exporter": "python",
   "pygments_lexer": "ipython3",
   "version": "3.8.3"
  }
 },
 "nbformat": 4,
 "nbformat_minor": 4
}
